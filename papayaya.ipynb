{
  "nbformat": 4,
  "nbformat_minor": 0,
  "metadata": {
    "colab": {
      "name": "papayaya_2.ipynb",
      "provenance": [],
      "collapsed_sections": []
    },
    "kernelspec": {
      "display_name": "Python 3",
      "name": "python3"
    },
    "language_info": {
      "name": "python"
    }
  },
  "cells": [
    {
      "cell_type": "markdown",
      "metadata": {
        "id": "3A4qDTAQhBZU"
      },
      "source": [
        "\n",
        "**Model_2**"
      ]
    },
    {
      "cell_type": "code",
      "metadata": {
        "colab": {
          "base_uri": "https://localhost:8080/"
        },
        "id": "BmQRsUaOk0dD",
        "outputId": "8b058176-2260-4d15-b8bc-bb4a2c0c960a"
      },
      "source": [
        "!pip install gradio"
      ],
      "execution_count": null,
      "outputs": [
        {
          "output_type": "stream",
          "name": "stdout",
          "text": [
            "Requirement already satisfied: gradio in /usr/local/lib/python3.7/dist-packages (2.4.5)\n",
            "Requirement already satisfied: Flask>=1.1.1 in /usr/local/lib/python3.7/dist-packages (from gradio) (1.1.4)\n",
            "Requirement already satisfied: Flask-Login in /usr/local/lib/python3.7/dist-packages (from gradio) (0.5.0)\n",
            "Requirement already satisfied: pillow in /usr/local/lib/python3.7/dist-packages (from gradio) (7.1.2)\n",
            "Requirement already satisfied: matplotlib in /usr/local/lib/python3.7/dist-packages (from gradio) (3.2.2)\n",
            "Requirement already satisfied: pandas in /usr/local/lib/python3.7/dist-packages (from gradio) (1.1.5)\n",
            "Requirement already satisfied: requests in /usr/local/lib/python3.7/dist-packages (from gradio) (2.23.0)\n",
            "Requirement already satisfied: numpy in /usr/local/lib/python3.7/dist-packages (from gradio) (1.19.5)\n",
            "Requirement already satisfied: pydub in /usr/local/lib/python3.7/dist-packages (from gradio) (0.25.1)\n",
            "Requirement already satisfied: analytics-python in /usr/local/lib/python3.7/dist-packages (from gradio) (1.4.0)\n",
            "Requirement already satisfied: ffmpy in /usr/local/lib/python3.7/dist-packages (from gradio) (0.3.0)\n",
            "Requirement already satisfied: markdown2 in /usr/local/lib/python3.7/dist-packages (from gradio) (2.4.1)\n",
            "Requirement already satisfied: pycryptodome in /usr/local/lib/python3.7/dist-packages (from gradio) (3.11.0)\n",
            "Requirement already satisfied: paramiko in /usr/local/lib/python3.7/dist-packages (from gradio) (2.8.0)\n",
            "Requirement already satisfied: flask-cachebuster in /usr/local/lib/python3.7/dist-packages (from gradio) (1.0.0)\n",
            "Requirement already satisfied: Flask-Cors>=3.0.8 in /usr/local/lib/python3.7/dist-packages (from gradio) (3.0.10)\n",
            "Requirement already satisfied: itsdangerous<2.0,>=0.24 in /usr/local/lib/python3.7/dist-packages (from Flask>=1.1.1->gradio) (1.1.0)\n",
            "Requirement already satisfied: click<8.0,>=5.1 in /usr/local/lib/python3.7/dist-packages (from Flask>=1.1.1->gradio) (7.1.2)\n",
            "Requirement already satisfied: Werkzeug<2.0,>=0.15 in /usr/local/lib/python3.7/dist-packages (from Flask>=1.1.1->gradio) (1.0.1)\n",
            "Requirement already satisfied: Jinja2<3.0,>=2.10.1 in /usr/local/lib/python3.7/dist-packages (from Flask>=1.1.1->gradio) (2.11.3)\n",
            "Requirement already satisfied: Six in /usr/local/lib/python3.7/dist-packages (from Flask-Cors>=3.0.8->gradio) (1.15.0)\n",
            "Requirement already satisfied: MarkupSafe>=0.23 in /usr/local/lib/python3.7/dist-packages (from Jinja2<3.0,>=2.10.1->Flask>=1.1.1->gradio) (2.0.1)\n",
            "Requirement already satisfied: python-dateutil>2.1 in /usr/local/lib/python3.7/dist-packages (from analytics-python->gradio) (2.8.2)\n",
            "Requirement already satisfied: backoff==1.10.0 in /usr/local/lib/python3.7/dist-packages (from analytics-python->gradio) (1.10.0)\n",
            "Requirement already satisfied: monotonic>=1.5 in /usr/local/lib/python3.7/dist-packages (from analytics-python->gradio) (1.6)\n",
            "Requirement already satisfied: certifi>=2017.4.17 in /usr/local/lib/python3.7/dist-packages (from requests->gradio) (2021.10.8)\n",
            "Requirement already satisfied: chardet<4,>=3.0.2 in /usr/local/lib/python3.7/dist-packages (from requests->gradio) (3.0.4)\n",
            "Requirement already satisfied: urllib3!=1.25.0,!=1.25.1,<1.26,>=1.21.1 in /usr/local/lib/python3.7/dist-packages (from requests->gradio) (1.24.3)\n",
            "Requirement already satisfied: idna<3,>=2.5 in /usr/local/lib/python3.7/dist-packages (from requests->gradio) (2.10)\n",
            "Requirement already satisfied: cycler>=0.10 in /usr/local/lib/python3.7/dist-packages (from matplotlib->gradio) (0.11.0)\n",
            "Requirement already satisfied: kiwisolver>=1.0.1 in /usr/local/lib/python3.7/dist-packages (from matplotlib->gradio) (1.3.2)\n",
            "Requirement already satisfied: pyparsing!=2.0.4,!=2.1.2,!=2.1.6,>=2.0.1 in /usr/local/lib/python3.7/dist-packages (from matplotlib->gradio) (3.0.6)\n",
            "Requirement already satisfied: pytz>=2017.2 in /usr/local/lib/python3.7/dist-packages (from pandas->gradio) (2018.9)\n",
            "Requirement already satisfied: pynacl>=1.0.1 in /usr/local/lib/python3.7/dist-packages (from paramiko->gradio) (1.4.0)\n",
            "Requirement already satisfied: cryptography>=2.5 in /usr/local/lib/python3.7/dist-packages (from paramiko->gradio) (35.0.0)\n",
            "Requirement already satisfied: bcrypt>=3.1.3 in /usr/local/lib/python3.7/dist-packages (from paramiko->gradio) (3.2.0)\n",
            "Requirement already satisfied: cffi>=1.1 in /usr/local/lib/python3.7/dist-packages (from bcrypt>=3.1.3->paramiko->gradio) (1.15.0)\n",
            "Requirement already satisfied: pycparser in /usr/local/lib/python3.7/dist-packages (from cffi>=1.1->bcrypt>=3.1.3->paramiko->gradio) (2.21)\n"
          ]
        }
      ]
    },
    {
      "cell_type": "code",
      "metadata": {
        "id": "ZAmOflAxk3P7"
      },
      "source": [
        "import gradio as gr"
      ],
      "execution_count": null,
      "outputs": []
    },
    {
      "cell_type": "code",
      "metadata": {
        "id": "c-2uFxPwyo2R"
      },
      "source": [
        "import matplotlib.pyplot as plt\n",
        "import numpy as np\n",
        "import os\n",
        "import PIL\n",
        "import tensorflow as tf\n",
        "\n",
        "from tensorflow import keras\n",
        "from tensorflow.keras import layers\n",
        "from tensorflow.keras.models import Sequential\n",
        "\n",
        "from IPython.display import Image"
      ],
      "execution_count": null,
      "outputs": []
    },
    {
      "cell_type": "code",
      "metadata": {
        "colab": {
          "base_uri": "https://localhost:8080/"
        },
        "id": "NAnV5XtFAmro",
        "outputId": "8c0ca6c3-69ad-4dd0-c7d0-0e7fa00d0ee4"
      },
      "source": [
        "\n",
        "from google.colab import drive\n",
        "drive.mount('/content/drive')"
      ],
      "execution_count": null,
      "outputs": [
        {
          "output_type": "stream",
          "name": "stdout",
          "text": [
            "Drive already mounted at /content/drive; to attempt to forcibly remount, call drive.mount(\"/content/drive\", force_remount=True).\n"
          ]
        }
      ]
    },
    {
      "cell_type": "code",
      "metadata": {
        "id": "Pv8FLoT_yuJ0"
      },
      "source": [
        "import pathlib\n",
        "path = \"/content/drive/Shareddrives/Colab Notebooks/CNN_papaya_aug\" \n",
        "data_dir = pathlib.Path(path)"
      ],
      "execution_count": null,
      "outputs": []
    },
    {
      "cell_type": "code",
      "metadata": {
        "colab": {
          "base_uri": "https://localhost:8080/"
        },
        "id": "xjQ6WJEKy9DY",
        "outputId": "5e1fc2c2-92e5-41c4-bb12-b0cd9fd53d75"
      },
      "source": [
        "image_count = len(list(data_dir.glob('*/*.jpg')))\n",
        "print(image_count)"
      ],
      "execution_count": null,
      "outputs": [
        {
          "output_type": "stream",
          "name": "stdout",
          "text": [
            "2334\n"
          ]
        }
      ]
    },
    {
      "cell_type": "code",
      "metadata": {
        "colab": {
          "base_uri": "https://localhost:8080/"
        },
        "id": "CufbVuVEBb2I",
        "outputId": "f07e818b-844f-4c55-a69a-44d9f47e1727"
      },
      "source": [
        "ripe_count = len(list(data_dir.glob('Ripe/*'))) \n",
        "medium_count = len(list(data_dir.glob('Medium/*'))) \n",
        "unripe_count = len(list(data_dir.glob('Unripe/*'))) \n",
        "print(\"ripe {}, medium {}, unripe {}\".format(ripe_count,medium_count,unripe_count))"
      ],
      "execution_count": null,
      "outputs": [
        {
          "output_type": "stream",
          "name": "stdout",
          "text": [
            "ripe 778, medium 778, unripe 778\n"
          ]
        }
      ]
    },
    {
      "cell_type": "code",
      "metadata": {
        "id": "wQp8cXrnsq-S"
      },
      "source": [
        "# Unripe = list(data_dir.glob('Unripe/*')) \n",
        "# PIL.Image.open(str(Unripe[1]))"
      ],
      "execution_count": null,
      "outputs": []
    },
    {
      "cell_type": "code",
      "metadata": {
        "id": "z0jmBjrFzQnX"
      },
      "source": [
        "batch_size = int(image_count*0.2)\n",
        "img_height = 180\n",
        "img_width = 180"
      ],
      "execution_count": null,
      "outputs": []
    },
    {
      "cell_type": "code",
      "metadata": {
        "colab": {
          "base_uri": "https://localhost:8080/"
        },
        "id": "wEpnpd2GzUkl",
        "outputId": "53affc81-375f-4598-e735-1dcd4bb72651"
      },
      "source": [
        "train_ds = tf.keras.preprocessing.image_dataset_from_directory(\n",
        "data_dir,\n",
        "validation_split=0.2,\n",
        "subset=\"training\",\n",
        "seed=123,\n",
        "image_size=(img_height, img_width),\n",
        "batch_size=batch_size)"
      ],
      "execution_count": null,
      "outputs": [
        {
          "output_type": "stream",
          "name": "stdout",
          "text": [
            "Found 2334 files belonging to 3 classes.\n",
            "Using 1868 files for training.\n"
          ]
        }
      ]
    },
    {
      "cell_type": "code",
      "metadata": {
        "colab": {
          "base_uri": "https://localhost:8080/"
        },
        "id": "JQK0jGeKzbjF",
        "outputId": "cc821722-c51a-4ed2-fe33-a463ab85c4a8"
      },
      "source": [
        "val_ds = tf.keras.preprocessing.image_dataset_from_directory(\n",
        "data_dir,\n",
        "validation_split=0.2,\n",
        "subset=\"validation\",\n",
        "seed=123,\n",
        "image_size=(img_height, img_width),\n",
        "batch_size=batch_size)"
      ],
      "execution_count": null,
      "outputs": [
        {
          "output_type": "stream",
          "name": "stdout",
          "text": [
            "Found 2334 files belonging to 3 classes.\n",
            "Using 466 files for validation.\n"
          ]
        }
      ]
    },
    {
      "cell_type": "code",
      "metadata": {
        "id": "TPFViaUJpD83"
      },
      "source": [
        "# for image_batch, labels_batch in train_ds:\n",
        "#   print(image_batch.shape)\n",
        "#   break"
      ],
      "execution_count": null,
      "outputs": []
    },
    {
      "cell_type": "code",
      "metadata": {
        "colab": {
          "base_uri": "https://localhost:8080/"
        },
        "id": "yj-b9SsVzgI5",
        "outputId": "cd80ddc2-15a2-477a-9265-633b2d875c36"
      },
      "source": [
        "class_names = train_ds.class_names\n",
        "print(class_names)"
      ],
      "execution_count": null,
      "outputs": [
        {
          "output_type": "stream",
          "name": "stdout",
          "text": [
            "['Medium', 'Ripe', 'Unripe']\n"
          ]
        }
      ]
    },
    {
      "cell_type": "code",
      "metadata": {
        "id": "jROkrW1Bcgeb"
      },
      "source": [
        "# plt.figure(figsize=(7, 7))\n",
        "# for images, labels in train_ds.take(1):\n",
        "#   for i in range(9):\n",
        "#     ax = plt.subplot(3, 3, i + 1)\n",
        "#     plt.imshow(images[i].numpy().astype(\"uint8\"))\n",
        "#     plt.title(class_names[labels[i]])\n",
        "#     plt.axis(\"off\")"
      ],
      "execution_count": null,
      "outputs": []
    },
    {
      "cell_type": "code",
      "metadata": {
        "id": "W6dpbFyA-DKk"
      },
      "source": [
        "normalization_layer = layers.experimental.preprocessing.Rescaling(1./255)"
      ],
      "execution_count": null,
      "outputs": []
    },
    {
      "cell_type": "code",
      "metadata": {
        "colab": {
          "base_uri": "https://localhost:8080/"
        },
        "id": "RXGe1xtd0EHT",
        "outputId": "452e3fcd-6052-48d2-f688-866343ba78d1"
      },
      "source": [
        "normalized_ds = train_ds.map(lambda x, y: (normalization_layer(x), y))\n",
        "image_batch, labels_batch = next(iter(normalized_ds))\n",
        "first_image = image_batch[0]\n",
        "print(np.min(first_image), np.max(first_image))"
      ],
      "execution_count": null,
      "outputs": [
        {
          "output_type": "stream",
          "name": "stdout",
          "text": [
            "0.0 0.9432189\n"
          ]
        }
      ]
    },
    {
      "cell_type": "code",
      "metadata": {
        "id": "VnCgDZmw0VH9"
      },
      "source": [
        "num_classes = 3\n",
        "\n",
        "model = Sequential([\n",
        "layers.experimental.preprocessing.Rescaling(1./255, input_shape=(img_height, img_width, 3)),\n",
        "layers.Conv2D(32, 3, padding='same', activation='relu'),\n",
        "layers.MaxPooling2D(),\n",
        "layers.Conv2D(32, 3, padding='same', activation='relu'),\n",
        "layers.MaxPooling2D(),\n",
        "layers.Conv2D(64, 3, padding='same', activation='relu'),\n",
        "layers.MaxPooling2D(),\n",
        "# layers.Dropout(0.2),\n",
        "layers.Flatten(),\n",
        "layers.Dense(128, activation='relu'),\n",
        "layers.Dense(num_classes)\n",
        "])\n",
        "\n"
      ],
      "execution_count": null,
      "outputs": []
    },
    {
      "cell_type": "code",
      "metadata": {
        "id": "gEXzGBkt0W75"
      },
      "source": [
        "model.compile(optimizer='adam',\n",
        "              loss=tf.keras.losses.SparseCategoricalCrossentropy(from_logits=True),\n",
        "              metrics=['accuracy'])\n"
      ],
      "execution_count": null,
      "outputs": []
    },
    {
      "cell_type": "code",
      "metadata": {
        "colab": {
          "base_uri": "https://localhost:8080/"
        },
        "id": "F46pYFXlmM_O",
        "outputId": "c4af3861-3fc5-4084-f4c1-fdf1144628a9"
      },
      "source": [
        "epochs=12\n",
        "history = model.fit(train_ds,\n",
        "                    validation_data=val_ds,\n",
        "                    epochs=epochs)"
      ],
      "execution_count": null,
      "outputs": [
        {
          "output_type": "stream",
          "name": "stdout",
          "text": [
            "Epoch 1/12\n",
            "5/5 [==============================] - 110s 18s/step - loss: 1.3348 - accuracy: 0.3276 - val_loss: 1.1003 - val_accuracy: 0.3433\n",
            "Epoch 2/12\n",
            "5/5 [==============================] - 99s 16s/step - loss: 0.9366 - accuracy: 0.4261 - val_loss: 0.6510 - val_accuracy: 0.7189\n",
            "Epoch 3/12\n",
            "5/5 [==============================] - 106s 18s/step - loss: 0.5495 - accuracy: 0.7596 - val_loss: 0.3722 - val_accuracy: 0.8369\n",
            "Epoch 4/12\n",
            "5/5 [==============================] - 101s 16s/step - loss: 0.3616 - accuracy: 0.8378 - val_loss: 0.3556 - val_accuracy: 0.8369\n",
            "Epoch 5/12\n",
            "5/5 [==============================] - 99s 17s/step - loss: 0.2836 - accuracy: 0.8769 - val_loss: 0.4797 - val_accuracy: 0.8112\n",
            "Epoch 6/12\n",
            "5/5 [==============================] - 100s 17s/step - loss: 0.2820 - accuracy: 0.8774 - val_loss: 0.2811 - val_accuracy: 0.8755\n",
            "Epoch 7/12\n",
            "5/5 [==============================] - 99s 16s/step - loss: 0.1944 - accuracy: 0.9197 - val_loss: 0.1292 - val_accuracy: 0.9506\n",
            "Epoch 8/12\n",
            "5/5 [==============================] - 104s 18s/step - loss: 0.1375 - accuracy: 0.9502 - val_loss: 0.1707 - val_accuracy: 0.9335\n",
            "Epoch 9/12\n",
            "5/5 [==============================] - 99s 17s/step - loss: 0.1752 - accuracy: 0.9245 - val_loss: 0.1091 - val_accuracy: 0.9549\n",
            "Epoch 10/12\n",
            "5/5 [==============================] - 99s 16s/step - loss: 0.1080 - accuracy: 0.9641 - val_loss: 0.1267 - val_accuracy: 0.9356\n",
            "Epoch 11/12\n",
            "5/5 [==============================] - 99s 17s/step - loss: 0.1032 - accuracy: 0.9599 - val_loss: 0.1155 - val_accuracy: 0.9421\n",
            "Epoch 12/12\n",
            "5/5 [==============================] - 101s 17s/step - loss: 0.1016 - accuracy: 0.9620 - val_loss: 0.1128 - val_accuracy: 0.9528\n"
          ]
        }
      ]
    },
    {
      "cell_type": "code",
      "metadata": {
        "id": "cptdfLJTIllj",
        "colab": {
          "base_uri": "https://localhost:8080/"
        },
        "outputId": "4f45301f-1b99-4a36-99a6-a43e480dc6ab"
      },
      "source": [
        "loss, acc = model.evaluate(val_ds, verbose=2)\n",
        "print(\"model, accuracy: {:5.2f}%\".format(100 * acc))"
      ],
      "execution_count": null,
      "outputs": [
        {
          "output_type": "stream",
          "name": "stdout",
          "text": [
            "1/1 - 14s - loss: 0.1128 - accuracy: 0.9528 - 14s/epoch - 14s/step\n",
            "model, accuracy: 95.28%\n"
          ]
        }
      ]
    },
    {
      "cell_type": "code",
      "metadata": {
        "id": "RNdrDADeiz_M"
      },
      "source": [
        "#model.save('/content/drive/Shareddrives/Colab Notebooks/model02.h5')\n",
        "model.save('model.h5')"
      ],
      "execution_count": null,
      "outputs": []
    },
    {
      "cell_type": "code",
      "metadata": {
        "id": "RYL_RwxuE7GK"
      },
      "source": [
        "!pip install tensorflowjs"
      ],
      "execution_count": null,
      "outputs": []
    },
    {
      "cell_type": "code",
      "metadata": {
        "id": "E_OwKgJOFB6C"
      },
      "source": [
        "!tensorflowjs_converter --output_format=tfjs_graph_model --input_format keras model.h5 model"
      ],
      "execution_count": null,
      "outputs": []
    },
    {
      "cell_type": "code",
      "metadata": {
        "id": "YVzJ1u6jFgWG"
      },
      "source": [
        "!zip -r model.zip model"
      ],
      "execution_count": null,
      "outputs": []
    },
    {
      "cell_type": "code",
      "metadata": {
        "id": "c48tTH8ym1j-",
        "colab": {
          "base_uri": "https://localhost:8080/",
          "height": 499
        },
        "outputId": "84650b1e-3821-4199-8306-227072ad46bd"
      },
      "source": [
        "acc = history.history['accuracy']\n",
        "val_acc = history.history['val_accuracy']\n",
        "loss = history.history['loss']\n",
        "val_loss = history.history['val_loss']\n",
        "epochs_range = range(epochs)\n",
        "plt.figure(figsize=(8, 8))\n",
        "plt.subplot(1, 2, 1)\n",
        "plt.plot(epochs_range, acc, label='Training Accuracy')\n",
        "plt.plot(epochs_range, val_acc, label='Validation Accuracy')\n",
        "plt.legend(loc='lower right')\n",
        "plt.title('Training and Validation Accuracy')\n",
        "plt.subplot(1, 2, 2)\n",
        "plt.plot(epochs_range, loss, label='Training Loss')\n",
        "plt.plot(epochs_range, val_loss, label='Validation Loss')\n",
        "plt.legend(loc='upper right')\n",
        "plt.title('Training and Validation Loss')\n",
        "plt.show()"
      ],
      "execution_count": null,
      "outputs": [
        {
          "output_type": "display_data",
          "data": {
            "image/png": "[encoded data removed]",
            "text/plain": [
              "<Figure size 576x576 with 2 Axes>"
            ]
          },
          "metadata": {
            "needs_background": "light"
          }
        }
      ]
    },
    {
      "cell_type": "markdown",
      "metadata": {
        "id": "85bj-4lS-QJf"
      },
      "source": [
        ""
      ]
    },
    {
      "cell_type": "code",
      "metadata": {
        "id": "SjOKwu2YtdxI",
        "colab": {
          "base_uri": "https://localhost:8080/",
          "height": 458
        },
        "outputId": "e3d494c2-c251-48e2-ad5e-ec1df79339ad"
      },
      "source": [
        "import numpy as np\n",
        "classes=['Unripe','Medium', 'Ripe']\n",
        "cm=[[0,0,0],[0,0,0],[0,0,0]]\n",
        "\n",
        "for images, labels in val_ds.take(1):\n",
        "  for i in range(batch_size):\n",
        "    img = images[i]\n",
        "    img_array = keras.preprocessing.image.img_to_array(img)\n",
        "    img_array = tf.expand_dims(img_array, 0)\n",
        "    predictions = model.predict(img_array)\n",
        "    score = tf.nn.softmax(predictions[0])\n",
        "    cm[classes.index(class_names[labels[i]])][classes.index(class_names[np.argmax(score)])]+=1\n",
        "    # print(\"Predited\",class_names[np.argmax(score)],\"Actual\",class_names[labels[i]])\n",
        "\n",
        "# print(np.matrix(cm))\n",
        "import seaborn as sn\n",
        "import pandas as pd\n",
        "import matplotlib.pyplot as plt\n",
        "array = cm\n",
        "df_cm = pd.DataFrame(array, index = classes,\n",
        "                  columns = classes)\n",
        "plt.figure(figsize = (10,7))\n",
        "sn.heatmap(df_cm,annot=True, fmt='g')\n",
        "plt.title('Confusion Matrix')\n",
        "plt.ylabel('Actal Values')\n",
        "plt.xlabel('Predicted Values')\n",
        "plt.show()\n",
        "\n",
        "# ncm=[[0,0,0],[0,0,0],[0,0,0]]\n",
        "# for y in range(3):\n",
        "#   for x in range(3):\n",
        "#     total=cm[y][0]+cm[y][1]+cm[y][2]\n",
        "#     if(total==0):\n",
        "#       total=1\n",
        "#     ncm[y][x]=cm[y][x]/total\n",
        "\n",
        "# array = ncm\n",
        "# df_cm = pd.DataFrame(array, index = classes,\n",
        "#                   columns = classes)\n",
        "# plt.figure(figsize = (10,7))\n",
        "# sn.heatmap(df_cm,annot=True, fmt='g')\n",
        "# plt.title('Normalized Confusion Matrix')\n",
        "# plt.ylabel('Actal Values')\n",
        "# plt.xlabel('Predicted Values')\n",
        "# plt.show()"
      ],
      "execution_count": null,
      "outputs": [
        {
          "output_type": "display_data",
          "data": {
            "image/png": "[encoded data removed]",
            "text/plain": [
              "<Figure size 720x504 with 2 Axes>"
            ]
          },
          "metadata": {
            "needs_background": "light"
          }
        }
      ]
    },
    {
      "cell_type": "code",
      "metadata": {
        "id": "JrQ8DhkiOeuZ"
      },
      "source": [
        "path = \"/content/drive/Shareddrives/Colab Notebooks/papaya_test/r1.jpg\"\n",
        "\n",
        "img = keras.preprocessing.image.load_img(path, target_size=(180, 180))\n",
        "img_array = keras.preprocessing.image.img_to_array(img)\n",
        "img_array = tf.expand_dims(img_array, 0)\n",
        "predictions = model.predict(img_array)\n",
        "score = tf.nn.softmax(predictions[0])\n",
        "display(Image(filename=path))\n",
        "print(\n",
        "  \"This is {} papaya with a {:.2f} % confidence.\"\n",
        "  .format(class_names[np.argmax(score)], 100 * np.max(score)))\n"
      ],
      "execution_count": null,
      "outputs": []
    },
    {
      "cell_type": "code",
      "metadata": {
        "id": "lDS83seYlOYl"
      },
      "source": [
        "# def predict_image(img):\n",
        "#   img_array = keras.preprocessing.image.img_to_array(img)\n",
        "#   img_array = tf.expand_dims(img_array, 0)\n",
        "#   predictions = model.predict(img_array)\n",
        "#   score = tf.nn.softmax(predictions[0])\n",
        "#   return (\"This is {} papaya with a {:.2f} % confidence.\".format(class_names[np.argmax(score)], 100 * np.max(score)))\n"
      ],
      "execution_count": null,
      "outputs": []
    },
    {
      "cell_type": "code",
      "metadata": {
        "id": "kilPrIeFlXDA"
      },
      "source": [
        "# image = gr.inputs.Image(shape=(180,180))\n",
        "\n",
        "# gr.Interface(fn=predict_image, inputs=image, outputs=\"text\", capture_session=True).launch(debug='True')"
      ],
      "execution_count": null,
      "outputs": []
    }
  ]
}